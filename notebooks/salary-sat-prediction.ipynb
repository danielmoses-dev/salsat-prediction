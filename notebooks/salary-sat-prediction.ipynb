{
 "cells": [
  {
   "cell_type": "markdown",
   "id": "5c6ba1be-5c62-4e2b-8269-c649ce9d8517",
   "metadata": {},
   "source": [
    "# Employee Salary and Satisfaction Prediction"
   ]
  },
  {
   "cell_type": "markdown",
   "id": "c655662f-7559-4907-a85a-34cd6788a81c",
   "metadata": {},
   "source": [
    "## 1. Loading the Data"
   ]
  },
  {
   "cell_type": "code",
   "execution_count": 259,
   "id": "379fa72b-5c3b-484d-9027-eab5c4e5a8b7",
   "metadata": {},
   "outputs": [],
   "source": [
    "import numpy as np\n",
    "import pandas as pd"
   ]
  },
  {
   "cell_type": "code",
   "execution_count": 260,
   "id": "290f762e-fc61-478e-b29b-49290c5b6c47",
   "metadata": {},
   "outputs": [],
   "source": [
    "data = pd.read_csv('survey_results_public.csv')"
   ]
  },
  {
   "cell_type": "code",
   "execution_count": 261,
   "id": "adbff486-a5d2-40fb-a2b2-5b5f9046994b",
   "metadata": {},
   "outputs": [
    {
     "name": "stdout",
     "output_type": "stream",
     "text": [
      "ResponseId, MainBranch, Age, Employment, RemoteWork, Check, CodingActivities, EdLevel, LearnCode, LearnCodeOnline, TechDoc, YearsCode, YearsCodePro, DevType, OrgSize, PurchaseInfluence, BuyNewTool, BuildvsBuy, TechEndorse, Country, Currency, CompTotal, LanguageHaveWorkedWith, LanguageWantToWorkWith, LanguageAdmired, DatabaseHaveWorkedWith, DatabaseWantToWorkWith, DatabaseAdmired, PlatformHaveWorkedWith, PlatformWantToWorkWith, PlatformAdmired, WebframeHaveWorkedWith, WebframeWantToWorkWith, WebframeAdmired, EmbeddedHaveWorkedWith, EmbeddedWantToWorkWith, EmbeddedAdmired, MiscTechHaveWorkedWith, MiscTechWantToWorkWith, MiscTechAdmired, ToolsTechHaveWorkedWith, ToolsTechWantToWorkWith, ToolsTechAdmired, NEWCollabToolsHaveWorkedWith, NEWCollabToolsWantToWorkWith, NEWCollabToolsAdmired, OpSysPersonal use, OpSysProfessional use, OfficeStackAsyncHaveWorkedWith, OfficeStackAsyncWantToWorkWith, OfficeStackAsyncAdmired, OfficeStackSyncHaveWorkedWith, OfficeStackSyncWantToWorkWith, OfficeStackSyncAdmired, AISearchDevHaveWorkedWith, AISearchDevWantToWorkWith, AISearchDevAdmired, NEWSOSites, SOVisitFreq, SOAccount, SOPartFreq, SOHow, SOComm, AISelect, AISent, AIBen, AIAcc, AIComplex, AIToolCurrently Using, AIToolInterested in Using, AIToolNot interested in Using, AINextMuch more integrated, AINextNo change, AINextMore integrated, AINextLess integrated, AINextMuch less integrated, AIThreat, AIEthics, AIChallenges, TBranch, ICorPM, WorkExp, Knowledge_1, Knowledge_2, Knowledge_3, Knowledge_4, Knowledge_5, Knowledge_6, Knowledge_7, Knowledge_8, Knowledge_9, Frequency_1, Frequency_2, Frequency_3, TimeSearching, TimeAnswering, Frustration, ProfessionalTech, ProfessionalCloud, ProfessionalQuestion, Industry, JobSatPoints_1, JobSatPoints_4, JobSatPoints_5, JobSatPoints_6, JobSatPoints_7, JobSatPoints_8, JobSatPoints_9, JobSatPoints_10, JobSatPoints_11, SurveyLength, SurveyEase, ConvertedCompYearly, JobSat, "
     ]
    }
   ],
   "source": [
    "for col in data.columns:\n",
    "    print(col, end = \", \")"
   ]
  },
  {
   "cell_type": "code",
   "execution_count": 262,
   "id": "a6865c91-0912-4855-a8f1-901735bc384a",
   "metadata": {},
   "outputs": [],
   "source": [
    "data = data[['DevType', 'Country', 'YearsCodePro', 'EdLevel', 'RemoteWork', 'OrgSize', 'ConvertedCompYearly', 'JobSat']]"
   ]
  },
  {
   "cell_type": "code",
   "execution_count": 263,
   "id": "150de466-ac69-4216-9509-cc33cf468f33",
   "metadata": {},
   "outputs": [
    {
     "data": {
      "text/plain": [
       "(65437, 8)"
      ]
     },
     "execution_count": 263,
     "metadata": {},
     "output_type": "execute_result"
    }
   ],
   "source": [
    "data.shape"
   ]
  },
  {
   "cell_type": "code",
   "execution_count": 264,
   "id": "985b5119-a4cc-49e4-8ebf-843d7cdee78e",
   "metadata": {
    "scrolled": true
   },
   "outputs": [
    {
     "data": {
      "text/html": [
       "<div>\n",
       "<style scoped>\n",
       "    .dataframe tbody tr th:only-of-type {\n",
       "        vertical-align: middle;\n",
       "    }\n",
       "\n",
       "    .dataframe tbody tr th {\n",
       "        vertical-align: top;\n",
       "    }\n",
       "\n",
       "    .dataframe thead th {\n",
       "        text-align: right;\n",
       "    }\n",
       "</style>\n",
       "<table border=\"1\" class=\"dataframe\">\n",
       "  <thead>\n",
       "    <tr style=\"text-align: right;\">\n",
       "      <th></th>\n",
       "      <th>DevType</th>\n",
       "      <th>Country</th>\n",
       "      <th>YearsCodePro</th>\n",
       "      <th>EdLevel</th>\n",
       "      <th>RemoteWork</th>\n",
       "      <th>OrgSize</th>\n",
       "      <th>ConvertedCompYearly</th>\n",
       "      <th>JobSat</th>\n",
       "    </tr>\n",
       "  </thead>\n",
       "  <tbody>\n",
       "    <tr>\n",
       "      <th>0</th>\n",
       "      <td>NaN</td>\n",
       "      <td>United States of America</td>\n",
       "      <td>NaN</td>\n",
       "      <td>Primary/elementary school</td>\n",
       "      <td>Remote</td>\n",
       "      <td>NaN</td>\n",
       "      <td>NaN</td>\n",
       "      <td>NaN</td>\n",
       "    </tr>\n",
       "    <tr>\n",
       "      <th>1</th>\n",
       "      <td>Developer, full-stack</td>\n",
       "      <td>United Kingdom of Great Britain and Northern I...</td>\n",
       "      <td>17</td>\n",
       "      <td>Bachelor’s degree (B.A., B.S., B.Eng., etc.)</td>\n",
       "      <td>Remote</td>\n",
       "      <td>NaN</td>\n",
       "      <td>NaN</td>\n",
       "      <td>NaN</td>\n",
       "    </tr>\n",
       "    <tr>\n",
       "      <th>2</th>\n",
       "      <td>Developer Experience</td>\n",
       "      <td>United Kingdom of Great Britain and Northern I...</td>\n",
       "      <td>27</td>\n",
       "      <td>Master’s degree (M.A., M.S., M.Eng., MBA, etc.)</td>\n",
       "      <td>Remote</td>\n",
       "      <td>NaN</td>\n",
       "      <td>NaN</td>\n",
       "      <td>NaN</td>\n",
       "    </tr>\n",
       "    <tr>\n",
       "      <th>3</th>\n",
       "      <td>Developer, full-stack</td>\n",
       "      <td>Canada</td>\n",
       "      <td>NaN</td>\n",
       "      <td>Some college/university study without earning ...</td>\n",
       "      <td>NaN</td>\n",
       "      <td>NaN</td>\n",
       "      <td>NaN</td>\n",
       "      <td>NaN</td>\n",
       "    </tr>\n",
       "    <tr>\n",
       "      <th>4</th>\n",
       "      <td>Developer, full-stack</td>\n",
       "      <td>Norway</td>\n",
       "      <td>NaN</td>\n",
       "      <td>Secondary school (e.g. American high school, G...</td>\n",
       "      <td>NaN</td>\n",
       "      <td>NaN</td>\n",
       "      <td>NaN</td>\n",
       "      <td>NaN</td>\n",
       "    </tr>\n",
       "  </tbody>\n",
       "</table>\n",
       "</div>"
      ],
      "text/plain": [
       "                 DevType                                            Country  \\\n",
       "0                    NaN                           United States of America   \n",
       "1  Developer, full-stack  United Kingdom of Great Britain and Northern I...   \n",
       "2   Developer Experience  United Kingdom of Great Britain and Northern I...   \n",
       "3  Developer, full-stack                                             Canada   \n",
       "4  Developer, full-stack                                             Norway   \n",
       "\n",
       "  YearsCodePro                                            EdLevel RemoteWork  \\\n",
       "0          NaN                          Primary/elementary school     Remote   \n",
       "1           17       Bachelor’s degree (B.A., B.S., B.Eng., etc.)     Remote   \n",
       "2           27    Master’s degree (M.A., M.S., M.Eng., MBA, etc.)     Remote   \n",
       "3          NaN  Some college/university study without earning ...        NaN   \n",
       "4          NaN  Secondary school (e.g. American high school, G...        NaN   \n",
       "\n",
       "  OrgSize  ConvertedCompYearly  JobSat  \n",
       "0     NaN                  NaN     NaN  \n",
       "1     NaN                  NaN     NaN  \n",
       "2     NaN                  NaN     NaN  \n",
       "3     NaN                  NaN     NaN  \n",
       "4     NaN                  NaN     NaN  "
      ]
     },
     "execution_count": 264,
     "metadata": {},
     "output_type": "execute_result"
    }
   ],
   "source": [
    "data.head()"
   ]
  },
  {
   "cell_type": "markdown",
   "id": "6ee013b2-331f-4dbc-bddd-bb819f8819ed",
   "metadata": {},
   "source": [
    "## 2. Data Preprocessing"
   ]
  },
  {
   "cell_type": "markdown",
   "id": "1bdf7d2b-0044-4fff-8b28-da4c92740e83",
   "metadata": {},
   "source": [
    "**Null Values**"
   ]
  },
  {
   "cell_type": "code",
   "execution_count": 265,
   "id": "b9dbc1f1-05db-4030-a8a5-bae91deea053",
   "metadata": {},
   "outputs": [],
   "source": [
    "#removing null values from entire dataframe at once\n",
    "data = data.dropna()"
   ]
  },
  {
   "cell_type": "code",
   "execution_count": 266,
   "id": "5af9dd05-eeb3-48e1-9fff-af9fc488e3cd",
   "metadata": {},
   "outputs": [
    {
     "data": {
      "text/plain": [
       "(16013, 8)"
      ]
     },
     "execution_count": 266,
     "metadata": {},
     "output_type": "execute_result"
    }
   ],
   "source": [
    "data.shape"
   ]
  },
  {
   "cell_type": "code",
   "execution_count": 267,
   "id": "39236ba4-9d2d-4542-9729-fcae25eaa72f",
   "metadata": {},
   "outputs": [],
   "source": [
    "#rows decreased from 65437 to 16013"
   ]
  },
  {
   "cell_type": "markdown",
   "id": "e406056e-b304-492d-a174-6d5bd15a82ed",
   "metadata": {},
   "source": [
    "### DevType"
   ]
  },
  {
   "cell_type": "code",
   "execution_count": 268,
   "id": "85cca793-a5ff-4879-b607-392291272187",
   "metadata": {},
   "outputs": [
    {
     "data": {
      "text/plain": [
       "DevType\n",
       "Developer, full-stack                            5782\n",
       "Developer, back-end                              3412\n",
       "Developer, front-end                              919\n",
       "Developer, desktop or enterprise applications     704\n",
       "Developer, mobile                                 569\n",
       "Developer, embedded applications or devices       511\n",
       "Other (please specify):                           417\n",
       "Engineering manager                               416\n",
       "Data engineer                                     392\n",
       "DevOps specialist                                 333\n",
       "Data scientist or machine learning specialist     296\n",
       "Research & Development role                       280\n",
       "Academic researcher                               219\n",
       "Senior Executive (C-Suite, VP, etc.)              208\n",
       "Cloud infrastructure engineer                     195\n",
       "Developer, QA or test                             149\n",
       "Developer, game or graphics                       139\n",
       "Developer, AI                                     129\n",
       "Data or business analyst                          118\n",
       "Engineer, site reliability                         97\n",
       "System administrator                               86\n",
       "Security professional                              72\n",
       "Scientist                                          72\n",
       "Project manager                                    72\n",
       "Student                                            65\n",
       "Developer Experience                               62\n",
       "Educator                                           61\n",
       "Blockchain                                         56\n",
       "Product manager                                    51\n",
       "Hardware Engineer                                  43\n",
       "Developer Advocate                                 35\n",
       "Database administrator                             29\n",
       "Designer                                           18\n",
       "Marketing or sales professional                     6\n",
       "Name: count, dtype: int64"
      ]
     },
     "execution_count": 268,
     "metadata": {},
     "output_type": "execute_result"
    }
   ],
   "source": [
    "data['DevType'].value_counts()"
   ]
  },
  {
   "cell_type": "code",
   "execution_count": 269,
   "id": "3a3f3b68-6331-4e92-a3d3-f2003c64013c",
   "metadata": {},
   "outputs": [],
   "source": [
    "devcounts = data['DevType'].value_counts()\n",
    "\n",
    "common_roles = devcounts[devcounts >= 100].index.tolist()\n",
    "\n",
    "if 'Other (please specify):' in common_roles:\n",
    "    common_roles.remove('Other (please specify):')\n",
    "\n",
    "data['DevType'] = data['DevType'].apply(lambda x: x if x in common_roles else 'Other')\n",
    "\n",
    "dev_map = {role: idx for idx, role in enumerate(data['DevType'].unique())}\n",
    "data['DevType'] = data['DevType'].map(dev_map)"
   ]
  },
  {
   "cell_type": "code",
   "execution_count": 270,
   "id": "76c41196-61cd-41b0-8bda-cb7c8edf66bc",
   "metadata": {},
   "outputs": [],
   "source": [
    "import pickle\n",
    "\n",
    "with open('dev_map.pkl', 'wb') as f:\n",
    "    pickle.dump(dev_map, f)"
   ]
  },
  {
   "cell_type": "markdown",
   "id": "d690691f-4dce-468e-91d9-4b90609a5b70",
   "metadata": {},
   "source": [
    "### Country"
   ]
  },
  {
   "cell_type": "code",
   "execution_count": 271,
   "id": "d72c014a-0dc3-4863-ac26-aaeaa2767e98",
   "metadata": {},
   "outputs": [
    {
     "data": {
      "text/plain": [
       "Country\n",
       "United States of America                                3212\n",
       "Germany                                                 1430\n",
       "United Kingdom of Great Britain and Northern Ireland     912\n",
       "Ukraine                                                  826\n",
       "India                                                    795\n",
       "                                                        ... \n",
       "Guyana                                                     1\n",
       "Sierra Leone                                               1\n",
       "Mauritania                                                 1\n",
       "Democratic Republic of the Congo                           1\n",
       "Haiti                                                      1\n",
       "Name: count, Length: 156, dtype: int64"
      ]
     },
     "execution_count": 271,
     "metadata": {},
     "output_type": "execute_result"
    }
   ],
   "source": [
    "data['Country'].value_counts()"
   ]
  },
  {
   "cell_type": "code",
   "execution_count": 272,
   "id": "dd93fe5f-0638-445a-8a60-5b4457b6974e",
   "metadata": {},
   "outputs": [],
   "source": [
    "#storing the count of each country\n",
    "country_counts = data['Country'].value_counts()\n",
    "\n",
    "#these are countries that have 100 or more entries\n",
    "common_countries = country_counts[country_counts >= 100].index.tolist()\n",
    "\n",
    "#if a country does not have 100 or more entries, it is classified as 'Other'\n",
    "data['Country'] = data['Country'].apply(lambda x: x if x in common_countries else 'Other')\n",
    "\n",
    "#numbering each country along with category 'Other' preserrving the index\n",
    "country_map = {country: idx for idx, country in enumerate(data['Country'].unique())}\n",
    "data['Country'] = data['Country'].map(country_map)"
   ]
  },
  {
   "cell_type": "code",
   "execution_count": 273,
   "id": "f4c3d0b8-2dce-45a0-bfdf-1b8d7d3e00ce",
   "metadata": {},
   "outputs": [],
   "source": [
    "with open('country_map.pkl', 'wb') as f:\n",
    "    pickle.dump(country_map, f)"
   ]
  },
  {
   "cell_type": "markdown",
   "id": "4216e0d3-1df5-43ee-af5d-47a00f25b85d",
   "metadata": {},
   "source": [
    "### YearsCodePro"
   ]
  },
  {
   "cell_type": "code",
   "execution_count": 274,
   "id": "6c5568a3-4159-4271-b8e9-75441e3f3752",
   "metadata": {},
   "outputs": [
    {
     "data": {
      "text/plain": [
       "YearsCodePro\n",
       "3                     1363\n",
       "5                     1215\n",
       "2                     1210\n",
       "4                     1100\n",
       "10                    1059\n",
       "6                     1043\n",
       "8                      918\n",
       "7                      886\n",
       "12                     618\n",
       "1                      610\n",
       "9                      556\n",
       "15                     510\n",
       "11                     485\n",
       "20                     421\n",
       "13                     415\n",
       "Less than 1 year       385\n",
       "14                     356\n",
       "16                     323\n",
       "17                     284\n",
       "18                     274\n",
       "25                     246\n",
       "19                     191\n",
       "24                     184\n",
       "22                     156\n",
       "30                     149\n",
       "23                     146\n",
       "26                     127\n",
       "21                     117\n",
       "28                      99\n",
       "27                      98\n",
       "35                      66\n",
       "32                      54\n",
       "29                      44\n",
       "40                      43\n",
       "34                      42\n",
       "33                      36\n",
       "36                      32\n",
       "38                      30\n",
       "31                      25\n",
       "37                      23\n",
       "45                      16\n",
       "39                      15\n",
       "42                      11\n",
       "41                      10\n",
       "43                       6\n",
       "44                       6\n",
       "More than 50 years       4\n",
       "46                       3\n",
       "50                       1\n",
       "48                       1\n",
       "47                       1\n",
       "Name: count, dtype: int64"
      ]
     },
     "execution_count": 274,
     "metadata": {},
     "output_type": "execute_result"
    }
   ],
   "source": [
    "data['YearsCodePro'].value_counts()"
   ]
  },
  {
   "cell_type": "code",
   "execution_count": 275,
   "id": "808bd40b-1268-40ec-b3bd-7f6858847be1",
   "metadata": {},
   "outputs": [],
   "source": [
    "#first I am making sure all values are numerical"
   ]
  },
  {
   "cell_type": "code",
   "execution_count": 276,
   "id": "82f5e520-623b-41b9-b6f3-ce1cd7d5a754",
   "metadata": {},
   "outputs": [],
   "source": [
    "data['YearsCodePro'] = data['YearsCodePro'].replace({\n",
    "    'Less than 1 year': 0,\n",
    "    'More than 50 years': 51\n",
    "})"
   ]
  },
  {
   "cell_type": "code",
   "execution_count": 277,
   "id": "e4bc06a2-7e16-480d-a77a-3f68e7791739",
   "metadata": {},
   "outputs": [],
   "source": [
    "#however, they are still string data types, so we convert to float\n",
    "\n",
    "data['YearsCodePro'] = data['YearsCodePro'].astype(float)"
   ]
  },
  {
   "cell_type": "code",
   "execution_count": 278,
   "id": "a52fe849-9d93-4f08-8051-a39fbdf986f7",
   "metadata": {},
   "outputs": [
    {
     "data": {
      "text/plain": [
       "{'whiskers': [<matplotlib.lines.Line2D at 0x1f11fbfe9b0>,\n",
       "  <matplotlib.lines.Line2D at 0x1f11fbfecb0>],\n",
       " 'caps': [<matplotlib.lines.Line2D at 0x1f11fbfefb0>,\n",
       "  <matplotlib.lines.Line2D at 0x1f11fbff2b0>],\n",
       " 'boxes': [<matplotlib.lines.Line2D at 0x1f11fbfe7d0>],\n",
       " 'medians': [<matplotlib.lines.Line2D at 0x1f11fbff5b0>],\n",
       " 'fliers': [<matplotlib.lines.Line2D at 0x1f11fbff8b0>],\n",
       " 'means': []}"
      ]
     },
     "execution_count": 278,
     "metadata": {},
     "output_type": "execute_result"
    },
    {
     "data": {
      "image/png": "[encoded data removed]",
      "text/plain": [
       "<Figure size 640x480 with 1 Axes>"
      ]
     },
     "metadata": {},
     "output_type": "display_data"
    }
   ],
   "source": [
    "#now finding the outliers\n",
    "\n",
    "import matplotlib.pyplot as plt\n",
    "\n",
    "plt.boxplot(data['YearsCodePro'])"
   ]
  },
  {
   "cell_type": "code",
   "execution_count": 279,
   "id": "12804bfc-8296-47da-8fa7-5cba11edde01",
   "metadata": {},
   "outputs": [],
   "source": [
    "#removing outliers i.e. experience more than 30 years\n",
    "\n",
    "data = data[data['YearsCodePro'] < 30]"
   ]
  },
  {
   "cell_type": "code",
   "execution_count": 280,
   "id": "f9ab7b45-23c3-40d7-811f-3ad432c814ab",
   "metadata": {},
   "outputs": [
    {
     "data": {
      "text/html": [
       "<div>\n",
       "<style scoped>\n",
       "    .dataframe tbody tr th:only-of-type {\n",
       "        vertical-align: middle;\n",
       "    }\n",
       "\n",
       "    .dataframe tbody tr th {\n",
       "        vertical-align: top;\n",
       "    }\n",
       "\n",
       "    .dataframe thead th {\n",
       "        text-align: right;\n",
       "    }\n",
       "</style>\n",
       "<table border=\"1\" class=\"dataframe\">\n",
       "  <thead>\n",
       "    <tr style=\"text-align: right;\">\n",
       "      <th></th>\n",
       "      <th>DevType</th>\n",
       "      <th>Country</th>\n",
       "      <th>YearsCodePro</th>\n",
       "      <th>EdLevel</th>\n",
       "      <th>RemoteWork</th>\n",
       "      <th>OrgSize</th>\n",
       "      <th>ConvertedCompYearly</th>\n",
       "      <th>JobSat</th>\n",
       "    </tr>\n",
       "  </thead>\n",
       "  <tbody>\n",
       "    <tr>\n",
       "      <th>72</th>\n",
       "      <td>0</td>\n",
       "      <td>0</td>\n",
       "      <td>1.0</td>\n",
       "      <td>Secondary school (e.g. American high school, G...</td>\n",
       "      <td>Hybrid (some remote, some in-person)</td>\n",
       "      <td>100 to 499 employees</td>\n",
       "      <td>7322.0</td>\n",
       "      <td>10.0</td>\n",
       "    </tr>\n",
       "    <tr>\n",
       "      <th>379</th>\n",
       "      <td>0</td>\n",
       "      <td>1</td>\n",
       "      <td>6.0</td>\n",
       "      <td>Master’s degree (M.A., M.S., M.Eng., MBA, etc.)</td>\n",
       "      <td>Remote</td>\n",
       "      <td>20 to 99 employees</td>\n",
       "      <td>91295.0</td>\n",
       "      <td>10.0</td>\n",
       "    </tr>\n",
       "    <tr>\n",
       "      <th>389</th>\n",
       "      <td>1</td>\n",
       "      <td>2</td>\n",
       "      <td>7.0</td>\n",
       "      <td>Some college/university study without earning ...</td>\n",
       "      <td>Remote</td>\n",
       "      <td>10 to 19 employees</td>\n",
       "      <td>110000.0</td>\n",
       "      <td>10.0</td>\n",
       "    </tr>\n",
       "    <tr>\n",
       "      <th>392</th>\n",
       "      <td>2</td>\n",
       "      <td>3</td>\n",
       "      <td>18.0</td>\n",
       "      <td>Professional degree (JD, MD, Ph.D, Ed.D, etc.)</td>\n",
       "      <td>Hybrid (some remote, some in-person)</td>\n",
       "      <td>1,000 to 4,999 employees</td>\n",
       "      <td>161044.0</td>\n",
       "      <td>7.0</td>\n",
       "    </tr>\n",
       "    <tr>\n",
       "      <th>415</th>\n",
       "      <td>3</td>\n",
       "      <td>4</td>\n",
       "      <td>16.0</td>\n",
       "      <td>Master’s degree (M.A., M.S., M.Eng., MBA, etc.)</td>\n",
       "      <td>Remote</td>\n",
       "      <td>20 to 99 employees</td>\n",
       "      <td>79481.0</td>\n",
       "      <td>3.0</td>\n",
       "    </tr>\n",
       "  </tbody>\n",
       "</table>\n",
       "</div>"
      ],
      "text/plain": [
       "     DevType  Country  YearsCodePro  \\\n",
       "72         0        0           1.0   \n",
       "379        0        1           6.0   \n",
       "389        1        2           7.0   \n",
       "392        2        3          18.0   \n",
       "415        3        4          16.0   \n",
       "\n",
       "                                               EdLevel  \\\n",
       "72   Secondary school (e.g. American high school, G...   \n",
       "379    Master’s degree (M.A., M.S., M.Eng., MBA, etc.)   \n",
       "389  Some college/university study without earning ...   \n",
       "392     Professional degree (JD, MD, Ph.D, Ed.D, etc.)   \n",
       "415    Master’s degree (M.A., M.S., M.Eng., MBA, etc.)   \n",
       "\n",
       "                               RemoteWork                   OrgSize  \\\n",
       "72   Hybrid (some remote, some in-person)      100 to 499 employees   \n",
       "379                                Remote        20 to 99 employees   \n",
       "389                                Remote        10 to 19 employees   \n",
       "392  Hybrid (some remote, some in-person)  1,000 to 4,999 employees   \n",
       "415                                Remote        20 to 99 employees   \n",
       "\n",
       "     ConvertedCompYearly  JobSat  \n",
       "72                7322.0    10.0  \n",
       "379              91295.0    10.0  \n",
       "389             110000.0    10.0  \n",
       "392             161044.0     7.0  \n",
       "415              79481.0     3.0  "
      ]
     },
     "execution_count": 280,
     "metadata": {},
     "output_type": "execute_result"
    }
   ],
   "source": [
    "data.head()"
   ]
  },
  {
   "cell_type": "code",
   "execution_count": 321,
   "id": "57b8ab3c-19f5-4a95-9e79-fa83b900a5d1",
   "metadata": {},
   "outputs": [],
   "source": [
    "import pickle\n",
    "\n",
    "with open('yearscodepro_data.pkl', 'wb') as f:\n",
    "    pickle.dump(data['YearsCodePro'], f)"
   ]
  },
  {
   "cell_type": "markdown",
   "id": "bde1601f-75a5-4246-859f-f4c1c64b520a",
   "metadata": {},
   "source": [
    "### EdLevel"
   ]
  },
  {
   "cell_type": "code",
   "execution_count": 281,
   "id": "e0bc3f88-30e8-4be5-8762-441d2d297a5b",
   "metadata": {},
   "outputs": [
    {
     "data": {
      "text/plain": [
       "EdLevel\n",
       "Bachelor’s degree (B.A., B.S., B.Eng., etc.)                                          7021\n",
       "Master’s degree (M.A., M.S., M.Eng., MBA, etc.)                                       4463\n",
       "Some college/university study without earning a degree                                1791\n",
       "Secondary school (e.g. American high school, German Realschule or Gymnasium, etc.)     773\n",
       "Professional degree (JD, MD, Ph.D, Ed.D, etc.)                                         677\n",
       "Associate degree (A.A., A.S., etc.)                                                    497\n",
       "Something else                                                                         135\n",
       "Primary/elementary school                                                               82\n",
       "Name: count, dtype: int64"
      ]
     },
     "execution_count": 281,
     "metadata": {},
     "output_type": "execute_result"
    }
   ],
   "source": [
    "data['EdLevel'].value_counts()"
   ]
  },
  {
   "cell_type": "code",
   "execution_count": 282,
   "id": "128bc831-5421-4126-9cad-0a961370c773",
   "metadata": {},
   "outputs": [],
   "source": [
    "data = data[data['EdLevel'] != 'Primary/elementary school']\n",
    "data = data[data['EdLevel'] != 'Something else']"
   ]
  },
  {
   "cell_type": "code",
   "execution_count": 283,
   "id": "a24ae2fa-6d32-49c2-b065-a347cef604c0",
   "metadata": {},
   "outputs": [],
   "source": [
    "#assigning numerical value based on degree heirarchy\n",
    "\n",
    "education = {\n",
    "    'Secondary school (e.g. American high school, German Realschule or Gymnasium, etc.)': 1,\n",
    "    'Some college/university study without earning a degree': 2,\n",
    "    'Associate degree (A.A., A.S., etc.)': 3,\n",
    "    'Bachelor’s degree (B.A., B.S., B.Eng., etc.)': 4,\n",
    "    'Master’s degree (M.A., M.S., M.Eng., MBA, etc.)': 5,\n",
    "    'Professional degree (JD, MD, Ph.D, Ed.D, etc.)': 6\n",
    "}\n",
    "\n",
    "data['EdLevel'] = data['EdLevel'].map(education)"
   ]
  },
  {
   "cell_type": "code",
   "execution_count": 284,
   "id": "e215472c-256a-41f2-b331-d37c1503f527",
   "metadata": {},
   "outputs": [],
   "source": [
    "with open('edlevel_map.pkl', 'wb') as f:\n",
    "    pickle.dump(education, f)"
   ]
  },
  {
   "cell_type": "markdown",
   "id": "08c31c4f-d57a-4603-b9e2-4a3594e7be07",
   "metadata": {},
   "source": [
    "### RemoteWork"
   ]
  },
  {
   "cell_type": "code",
   "execution_count": 285,
   "id": "8f197bf8-6cec-4f35-be97-e6e3f2650508",
   "metadata": {},
   "outputs": [
    {
     "data": {
      "text/plain": [
       "RemoteWork\n",
       "Hybrid (some remote, some in-person)    6546\n",
       "Remote                                  6132\n",
       "In-person                               2544\n",
       "Name: count, dtype: int64"
      ]
     },
     "execution_count": 285,
     "metadata": {},
     "output_type": "execute_result"
    }
   ],
   "source": [
    "data['RemoteWork'].value_counts()"
   ]
  },
  {
   "cell_type": "code",
   "execution_count": 286,
   "id": "7bed3dd9-ec3b-4f99-a3c2-51d8144e521c",
   "metadata": {},
   "outputs": [],
   "source": [
    "#using similar method to encode based on order of flexibility\n",
    "\n",
    "remote = {\n",
    "    'Remote': 0,\n",
    "    'Hybrid (some remote, some in-person)': 1,\n",
    "    'In-person': 2\n",
    "}\n",
    "\n",
    "data['RemoteWork'] = data['RemoteWork'].map(remote)"
   ]
  },
  {
   "cell_type": "code",
   "execution_count": 287,
   "id": "c204d156-95d2-41d3-8883-eacf270af116",
   "metadata": {},
   "outputs": [],
   "source": [
    "with open('remotework_map.pkl', 'wb') as f:\n",
    "    pickle.dump(remote, f)"
   ]
  },
  {
   "cell_type": "markdown",
   "id": "044eb58d-5d59-4d04-b23f-671808712a86",
   "metadata": {},
   "source": [
    "### OrgSize"
   ]
  },
  {
   "cell_type": "code",
   "execution_count": 288,
   "id": "ad6fb7cc-cc5a-48e9-8756-b949de1c1ae6",
   "metadata": {},
   "outputs": [
    {
     "data": {
      "text/plain": [
       "OrgSize\n",
       "20 to 99 employees                                    3457\n",
       "100 to 499 employees                                  3170\n",
       "1,000 to 4,999 employees                              1888\n",
       "10,000 or more employees                              1887\n",
       "10 to 19 employees                                    1414\n",
       "2 to 9 employees                                      1411\n",
       "500 to 999 employees                                  1095\n",
       "5,000 to 9,999 employees                               665\n",
       "I don’t know                                           163\n",
       "Just me - I am a freelancer, sole proprietor, etc.      72\n",
       "Name: count, dtype: int64"
      ]
     },
     "execution_count": 288,
     "metadata": {},
     "output_type": "execute_result"
    }
   ],
   "source": [
    "data['OrgSize'].value_counts()"
   ]
  },
  {
   "cell_type": "code",
   "execution_count": 289,
   "id": "759923bc-f80a-4621-849e-a6cc37927d3e",
   "metadata": {},
   "outputs": [],
   "source": [
    "#removing unneccesary noise i.e. too low value_counts\n",
    "\n",
    "data = data[data['OrgSize'] != 'I dont know']\n",
    "data = data[data['OrgSize'] != 'Just me - I am a freelancer, sole proprietor, etc.']"
   ]
  },
  {
   "cell_type": "code",
   "execution_count": 290,
   "id": "6b941242-a14d-4938-88b5-9bb08abbbaa7",
   "metadata": {},
   "outputs": [],
   "source": [
    "#encoding based on size of organisation\n",
    "\n",
    "org_map = {\n",
    "    '2 to 9 employees': 0,\n",
    "    '10 to 19 employees': 1,\n",
    "    '20 to 99 employees': 2,\n",
    "    '100 to 499 employees': 3,\n",
    "    '500 to 999 employees': 4,\n",
    "    '1,000 to 4,999 employees': 5,\n",
    "    '5,000 to 9,999 employees': 6,\n",
    "    '10,000 or more employees': 7\n",
    "}\n",
    "\n",
    "data['OrgSize'] = data['OrgSize'].map(org_map)"
   ]
  },
  {
   "cell_type": "code",
   "execution_count": 291,
   "id": "32fccc4d-4c3d-428d-bf41-fd0fe1c7004e",
   "metadata": {},
   "outputs": [],
   "source": [
    "with open('orgsize_map.pkl', 'wb') as f:\n",
    "    pickle.dump(org_map, f)"
   ]
  },
  {
   "cell_type": "code",
   "execution_count": 292,
   "id": "08c0b5af-4453-4ed0-8f0e-a7880ea76e22",
   "metadata": {},
   "outputs": [
    {
     "data": {
      "text/plain": [
       "DevType                  0\n",
       "Country                  0\n",
       "YearsCodePro             0\n",
       "EdLevel                  0\n",
       "RemoteWork               0\n",
       "OrgSize                163\n",
       "ConvertedCompYearly      0\n",
       "JobSat                   0\n",
       "dtype: int64"
      ]
     },
     "execution_count": 292,
     "metadata": {},
     "output_type": "execute_result"
    }
   ],
   "source": [
    "#checking again for null values since we removed categories earlier\n",
    "\n",
    "data.isna().sum()"
   ]
  },
  {
   "cell_type": "code",
   "execution_count": 293,
   "id": "9cf25d58-39ca-4315-9ab9-e1407137ffd8",
   "metadata": {},
   "outputs": [],
   "source": [
    "#Removing null values created due to removing two categories\n",
    "\n",
    "data = data.dropna(subset=['OrgSize'])"
   ]
  },
  {
   "cell_type": "code",
   "execution_count": 294,
   "id": "4bcb5466-f162-4d1a-a903-14cea66c411f",
   "metadata": {},
   "outputs": [],
   "source": [
    "#Converting to int for uniformity\n",
    "\n",
    "data['OrgSize'] = data['OrgSize'].astype(int)"
   ]
  },
  {
   "cell_type": "markdown",
   "id": "9aeb5bf8-65e6-473f-9eea-bc2f9e85ce5c",
   "metadata": {},
   "source": [
    "### JobSat"
   ]
  },
  {
   "cell_type": "code",
   "execution_count": 295,
   "id": "10143197-d380-4835-b690-13b979b252c5",
   "metadata": {},
   "outputs": [
    {
     "data": {
      "text/plain": [
       "JobSat\n",
       "8.0     3868\n",
       "7.0     3281\n",
       "6.0     1955\n",
       "9.0     1885\n",
       "10.0    1069\n",
       "5.0      940\n",
       "4.0      635\n",
       "3.0      622\n",
       "2.0      428\n",
       "0.0      160\n",
       "1.0      144\n",
       "Name: count, dtype: int64"
      ]
     },
     "execution_count": 295,
     "metadata": {},
     "output_type": "execute_result"
    }
   ],
   "source": [
    "data['JobSat'].value_counts()"
   ]
  },
  {
   "cell_type": "code",
   "execution_count": 296,
   "id": "988055fb-a7db-4d3c-860f-01fd18021230",
   "metadata": {},
   "outputs": [],
   "source": [
    "#JobSat does not require any cleaning"
   ]
  },
  {
   "cell_type": "code",
   "execution_count": 297,
   "id": "f896c9ba-5614-4810-8d0d-7fe204e9a00c",
   "metadata": {},
   "outputs": [
    {
     "data": {
      "text/html": [
       "<div>\n",
       "<style scoped>\n",
       "    .dataframe tbody tr th:only-of-type {\n",
       "        vertical-align: middle;\n",
       "    }\n",
       "\n",
       "    .dataframe tbody tr th {\n",
       "        vertical-align: top;\n",
       "    }\n",
       "\n",
       "    .dataframe thead th {\n",
       "        text-align: right;\n",
       "    }\n",
       "</style>\n",
       "<table border=\"1\" class=\"dataframe\">\n",
       "  <thead>\n",
       "    <tr style=\"text-align: right;\">\n",
       "      <th></th>\n",
       "      <th>DevType</th>\n",
       "      <th>Country</th>\n",
       "      <th>YearsCodePro</th>\n",
       "      <th>EdLevel</th>\n",
       "      <th>RemoteWork</th>\n",
       "      <th>OrgSize</th>\n",
       "      <th>ConvertedCompYearly</th>\n",
       "      <th>JobSat</th>\n",
       "    </tr>\n",
       "  </thead>\n",
       "  <tbody>\n",
       "    <tr>\n",
       "      <th>72</th>\n",
       "      <td>0</td>\n",
       "      <td>0</td>\n",
       "      <td>1.0</td>\n",
       "      <td>1</td>\n",
       "      <td>1</td>\n",
       "      <td>3</td>\n",
       "      <td>7322.0</td>\n",
       "      <td>10.0</td>\n",
       "    </tr>\n",
       "    <tr>\n",
       "      <th>379</th>\n",
       "      <td>0</td>\n",
       "      <td>1</td>\n",
       "      <td>6.0</td>\n",
       "      <td>5</td>\n",
       "      <td>0</td>\n",
       "      <td>2</td>\n",
       "      <td>91295.0</td>\n",
       "      <td>10.0</td>\n",
       "    </tr>\n",
       "    <tr>\n",
       "      <th>389</th>\n",
       "      <td>1</td>\n",
       "      <td>2</td>\n",
       "      <td>7.0</td>\n",
       "      <td>2</td>\n",
       "      <td>0</td>\n",
       "      <td>1</td>\n",
       "      <td>110000.0</td>\n",
       "      <td>10.0</td>\n",
       "    </tr>\n",
       "    <tr>\n",
       "      <th>392</th>\n",
       "      <td>2</td>\n",
       "      <td>3</td>\n",
       "      <td>18.0</td>\n",
       "      <td>6</td>\n",
       "      <td>1</td>\n",
       "      <td>5</td>\n",
       "      <td>161044.0</td>\n",
       "      <td>7.0</td>\n",
       "    </tr>\n",
       "    <tr>\n",
       "      <th>415</th>\n",
       "      <td>3</td>\n",
       "      <td>4</td>\n",
       "      <td>16.0</td>\n",
       "      <td>5</td>\n",
       "      <td>0</td>\n",
       "      <td>2</td>\n",
       "      <td>79481.0</td>\n",
       "      <td>3.0</td>\n",
       "    </tr>\n",
       "  </tbody>\n",
       "</table>\n",
       "</div>"
      ],
      "text/plain": [
       "     DevType  Country  YearsCodePro  EdLevel  RemoteWork  OrgSize  \\\n",
       "72         0        0           1.0        1           1        3   \n",
       "379        0        1           6.0        5           0        2   \n",
       "389        1        2           7.0        2           0        1   \n",
       "392        2        3          18.0        6           1        5   \n",
       "415        3        4          16.0        5           0        2   \n",
       "\n",
       "     ConvertedCompYearly  JobSat  \n",
       "72                7322.0    10.0  \n",
       "379              91295.0    10.0  \n",
       "389             110000.0    10.0  \n",
       "392             161044.0     7.0  \n",
       "415              79481.0     3.0  "
      ]
     },
     "execution_count": 297,
     "metadata": {},
     "output_type": "execute_result"
    }
   ],
   "source": [
    "data.head()"
   ]
  },
  {
   "cell_type": "code",
   "execution_count": 320,
   "id": "ca3011aa-b8f7-4880-ab68-fcaca54a7b04",
   "metadata": {},
   "outputs": [],
   "source": [
    "import pickle\n",
    "\n",
    "with open('convertedcompyearly_data.pkl', 'wb') as f:\n",
    "    pickle.dump(data['ConvertedCompYearly'], f)"
   ]
  },
  {
   "cell_type": "markdown",
   "id": "7da62065-23b0-4a7d-9378-fb79b7a24b7c",
   "metadata": {},
   "source": [
    "## 3. Salary Prediction"
   ]
  },
  {
   "cell_type": "markdown",
   "id": "515e0944-feea-4160-b45f-4ffa63b41538",
   "metadata": {},
   "source": [
    "### A. Regression Models"
   ]
  },
  {
   "cell_type": "markdown",
   "id": "64a668b3-418b-4bba-a916-180bbbd7e017",
   "metadata": {},
   "source": [
    "**Input and Output Data**"
   ]
  },
  {
   "cell_type": "code",
   "execution_count": 298,
   "id": "0dab6c06-96e4-4514-9abe-d8b7761d406c",
   "metadata": {},
   "outputs": [],
   "source": [
    "#Splitting into input and output for Salary Model\n",
    "\n",
    "X = data.drop(['ConvertedCompYearly', 'JobSat'], axis=1)\n",
    "y_salary = data['ConvertedCompYearly']"
   ]
  },
  {
   "cell_type": "markdown",
   "id": "07183736-dfbc-40af-9eec-09ed10f71a31",
   "metadata": {},
   "source": [
    "**Training and Testing Data**"
   ]
  },
  {
   "cell_type": "code",
   "execution_count": 299,
   "id": "f3041a48-1af3-4514-bd57-66f63532ce97",
   "metadata": {},
   "outputs": [],
   "source": [
    "#Splitting into training and testing\n",
    "\n",
    "from sklearn.model_selection import train_test_split\n",
    "\n",
    "X_train, X_test, y_train, y_test = train_test_split(X, y_salary, test_size=0.2, random_state=42)"
   ]
  },
  {
   "cell_type": "markdown",
   "id": "f0dd70c7-1e44-4dde-b948-f44a6523fb05",
   "metadata": {},
   "source": [
    "**Regression Pipeline**"
   ]
  },
  {
   "cell_type": "code",
   "execution_count": 300,
   "id": "d4c2fec5-0fc5-41ca-bc01-023590a809a1",
   "metadata": {},
   "outputs": [],
   "source": [
    "#Importing all models and libraries for pipeline\n",
    "\n",
    "from sklearn.linear_model import LinearRegression\n",
    "from sklearn.ensemble import RandomForestRegressor, GradientBoostingRegressor\n",
    "from xgboost import XGBRegressor\n",
    "from catboost import CatBoostRegressor\n",
    "from sklearn.pipeline import Pipeline\n",
    "from sklearn.metrics import r2_score, mean_absolute_error"
   ]
  },
  {
   "cell_type": "code",
   "execution_count": 301,
   "id": "2eba9007-5d9f-460a-a468-61e613ae348f",
   "metadata": {},
   "outputs": [
    {
     "name": "stdout",
     "output_type": "stream",
     "text": [
      "               Model  R2 Score       MAE\n",
      "0  Linear Regression    0.0448  50098.69\n",
      "2  Gradient Boosting    0.0319  41321.30\n",
      "1      Random Forest    0.0275  42666.43\n",
      "3            XGBoost   -0.0323  42037.42\n",
      "4           CatBoost   -0.2439  41407.78\n"
     ]
    }
   ],
   "source": [
    "#Pipeline for Regression Models\n",
    "\n",
    "models = {\n",
    "    \"Linear Regression\": LinearRegression(),\n",
    "    \"Random Forest\": RandomForestRegressor(n_estimators=100, random_state=42),\n",
    "    \"Gradient Boosting\": GradientBoostingRegressor(n_estimators=100, random_state=42),\n",
    "    \"XGBoost\": XGBRegressor(n_estimators=100, random_state=42),\n",
    "    \"CatBoost\": CatBoostRegressor(verbose=0, random_state=42)\n",
    "}\n",
    "\n",
    "results = []\n",
    "\n",
    "for name, model in models.items():\n",
    "    pipe = Pipeline([\n",
    "        ('model', model)\n",
    "    ])\n",
    "    pipe.fit(X_train, y_train)\n",
    "    y_pred = pipe.predict(X_test)\n",
    "\n",
    "    r2 = r2_score(y_test, y_pred)\n",
    "    mae = mean_absolute_error(y_test, y_pred)\n",
    "\n",
    "    results.append({\n",
    "        'Model': name,\n",
    "        'R2 Score': round(r2, 4),\n",
    "        'MAE': round(mae, 2)\n",
    "    })\n",
    "\n",
    "results_df = pd.DataFrame(results).sort_values(by='R2 Score', ascending=False)\n",
    "print(results_df)"
   ]
  },
  {
   "cell_type": "markdown",
   "id": "a51ea91e-5686-483c-815f-d1d5914cb70f",
   "metadata": {},
   "source": [
    "### B. MidPoint Regression Models"
   ]
  },
  {
   "cell_type": "markdown",
   "id": "ce263fdb-de0a-4596-aaaa-086cec66322e",
   "metadata": {},
   "source": [
    "**Creating MidPoint**\n",
    "\n",
    "Due to extremely poor results, we will use MidPoint Regression to create Salary Ranges represented by their midpoint value i.e. \n",
    "\n",
    "*<20k, 20-40k, 40-60k, 60-80k, 80-100k, 100-120k, 120-150k, 150k*"
   ]
  },
  {
   "cell_type": "code",
   "execution_count": 302,
   "id": "d5318030-cc69-4ecc-9b45-f86f626c1371",
   "metadata": {},
   "outputs": [],
   "source": [
    "def get_salary_midpoint(value):\n",
    "    if value < 20000:\n",
    "        return 10000\n",
    "    elif value < 40000:\n",
    "        return 30000\n",
    "    elif value < 60000:\n",
    "        return 50000\n",
    "    elif value < 80000:\n",
    "        return 70000\n",
    "    elif value < 100000:\n",
    "        return 90000\n",
    "    elif value < 120000:\n",
    "        return 110000\n",
    "    elif value < 150000:\n",
    "        return 135000\n",
    "    else:\n",
    "        return 160000\n",
    "\n",
    "data['SalaryMidpoint'] = data['ConvertedCompYearly'].apply(get_salary_midpoint)"
   ]
  },
  {
   "cell_type": "markdown",
   "id": "9a8d5c54-af5f-4ed2-9d77-b540d91f9fd1",
   "metadata": {},
   "source": [
    "**Input and Output Data**"
   ]
  },
  {
   "cell_type": "code",
   "execution_count": 303,
   "id": "7f72952b-6806-4cce-8199-0034794b4d3e",
   "metadata": {},
   "outputs": [],
   "source": [
    "#Again creating input and output variables for MidPoint Regression\n",
    "\n",
    "X = data.drop(columns=['ConvertedCompYearly', 'SalaryMidpoint', 'JobSat'])\n",
    "y = data['SalaryMidpoint']"
   ]
  },
  {
   "cell_type": "markdown",
   "id": "0400e166-c6d1-4190-81df-7edc51522292",
   "metadata": {},
   "source": [
    "**Training and Testing Data**"
   ]
  },
  {
   "cell_type": "code",
   "execution_count": 304,
   "id": "07fe805e-a983-42ee-850e-e3058ba3185b",
   "metadata": {},
   "outputs": [],
   "source": [
    "#Splitting into training and testing again\n",
    "\n",
    "X_train, X_test, y_train, y_test = train_test_split(X, y, random_state=42)"
   ]
  },
  {
   "cell_type": "markdown",
   "id": "86efd9d1-ee14-42c5-8f01-23b752739c5a",
   "metadata": {},
   "source": [
    "**Regression Pipeline**"
   ]
  },
  {
   "cell_type": "code",
   "execution_count": 305,
   "id": "b6748921-36c7-4e45-8ffb-f93ed11e0851",
   "metadata": {},
   "outputs": [
    {
     "name": "stdout",
     "output_type": "stream",
     "text": [
      "               Model  R2 Score           MAE\n",
      "4           CatBoost  0.639160  21602.882390\n",
      "2  Gradient Boosting  0.615562  22905.329256\n",
      "3            XGBoost  0.609255  22409.676859\n",
      "1      Random Forest  0.577935  23304.550889\n",
      "0  Linear Regression  0.272871  34120.969824\n"
     ]
    }
   ],
   "source": [
    "#Recreating pipeline for MidPoint Regression\n",
    "\n",
    "models = {\n",
    "    'Linear Regression': LinearRegression(),\n",
    "    'Random Forest': RandomForestRegressor(),\n",
    "    'Gradient Boosting': GradientBoostingRegressor(),\n",
    "    'XGBoost': XGBRegressor(),\n",
    "    'CatBoost': CatBoostRegressor(verbose=0)\n",
    "}\n",
    "\n",
    "results = []\n",
    "\n",
    "#Training each model\n",
    "for name, model in models.items():\n",
    "    model.fit(X_train, y_train)\n",
    "    preds = model.predict(X_test)\n",
    "    r2 = r2_score(y_test, preds)\n",
    "    mae = mean_absolute_error(y_test, preds)\n",
    "    results.append((name, r2, mae))\n",
    "\n",
    "#Adding evaluation to dataframe for comparison\n",
    "results_df = pd.DataFrame(results, columns=[\"Model\", \"R2 Score\", \"MAE\"])\n",
    "print(results_df.sort_values(\"R2 Score\", ascending=False))"
   ]
  },
  {
   "cell_type": "markdown",
   "id": "6fd2f3b1-42b5-46ef-a18c-9994c891fca9",
   "metadata": {},
   "source": [
    "**Saving CatBoost Regressor Model**\n",
    "\n",
    "The best results have been achieved using CatBoost Regressor thus we will re-train this model separately and save it for external use "
   ]
  },
  {
   "cell_type": "code",
   "execution_count": 306,
   "id": "dbbebb6f-d234-48e6-8201-04bd0d39c5d9",
   "metadata": {},
   "outputs": [
    {
     "data": {
      "text/plain": [
       "['salary_prediction_model.pkl']"
      ]
     },
     "execution_count": 306,
     "metadata": {},
     "output_type": "execute_result"
    }
   ],
   "source": [
    "#The best model seems to be CatBoost regressor\n",
    "#Thus we will train separately and create .pkl file for application\n",
    "import joblib\n",
    "\n",
    "best_model = CatBoostRegressor(verbose=0)\n",
    "best_model.fit(X_train, y_train)\n",
    "\n",
    "joblib.dump(best_model, 'salary_prediction_model.pkl')"
   ]
  },
  {
   "cell_type": "markdown",
   "id": "b84360e0-062b-4103-aaf7-ba00cde0be0a",
   "metadata": {},
   "source": [
    "**Backup of Data**\n",
    "\n",
    "The training and testing data is being stored as backups to avoid potential conflicts with the Job Satisfaction Prediction Models"
   ]
  },
  {
   "cell_type": "code",
   "execution_count": 307,
   "id": "f4b4bb00-3658-4241-9c36-42df80c567c4",
   "metadata": {},
   "outputs": [],
   "source": [
    "#Saving salary training and testing as copies\n",
    "\n",
    "X_train_salary = X_train.copy()\n",
    "X_test_salary = X_test.copy()\n",
    "y_train_salary = y_train.copy()\n",
    "y_test_salary = y_test.copy()"
   ]
  },
  {
   "cell_type": "markdown",
   "id": "dd143719-1769-4559-bf20-948f15277c56",
   "metadata": {},
   "source": [
    "**Actual vs Predicted Salary**"
   ]
  },
  {
   "cell_type": "code",
   "execution_count": 308,
   "id": "c1baced1-e9f0-4620-8117-6a96ff0131a8",
   "metadata": {},
   "outputs": [
    {
     "data": {
      "image/png": "[encoded data removed]",
      "text/plain": [
       "<Figure size 800x600 with 1 Axes>"
      ]
     },
     "metadata": {},
     "output_type": "display_data"
    }
   ],
   "source": [
    "from sklearn.metrics import r2_score\n",
    "import seaborn as sns\n",
    "\n",
    "y_pred = best_model.predict(X_test)\n",
    "\n",
    "plt.figure(figsize=(8,6))\n",
    "sns.scatterplot(x=y_test, y=y_pred, alpha=0.4)\n",
    "plt.xlabel(\"Actual Salary\")\n",
    "plt.ylabel(\"Predicted Salary\")\n",
    "plt.title(f\"Actual vs Predicted Salary (CatBoost) — R²: {r2_score(y_test, y_pred):.2f}\")\n",
    "plt.plot([y_test.min(), y_test.max()], [y_test.min(), y_test.max()], color='red', linestyle='--')\n",
    "plt.show()"
   ]
  },
  {
   "cell_type": "markdown",
   "id": "8bfe781a-25bc-468a-a436-85aaf393122b",
   "metadata": {},
   "source": [
    "## 4. Satisfaction Prediction"
   ]
  },
  {
   "cell_type": "markdown",
   "id": "5204b298-e8bd-4fe2-86f2-4b364c146a69",
   "metadata": {},
   "source": [
    "**Input and Output Data**"
   ]
  },
  {
   "cell_type": "code",
   "execution_count": 309,
   "id": "d9b14fb2-8056-4b37-a792-d9bc04845641",
   "metadata": {},
   "outputs": [],
   "source": [
    "#Creating input variable for Satisfaction Model\n",
    "X = data.drop(['ConvertedCompYearly', 'SalaryMidpoint', 'JobSat'], axis=1)"
   ]
  },
  {
   "cell_type": "code",
   "execution_count": 310,
   "id": "01e5097a-619f-4f61-b540-a035c191bcd5",
   "metadata": {},
   "outputs": [
    {
     "data": {
      "text/plain": [
       "Index(['DevType', 'Country', 'YearsCodePro', 'EdLevel', 'RemoteWork',\n",
       "       'OrgSize'],\n",
       "      dtype='object')"
      ]
     },
     "execution_count": 310,
     "metadata": {},
     "output_type": "execute_result"
    }
   ],
   "source": [
    "#Ensure no salary or satisfaction data is leaking\n",
    "X.columns"
   ]
  },
  {
   "cell_type": "code",
   "execution_count": 311,
   "id": "e587b0d2-3143-4c60-9340-1648f487c5ba",
   "metadata": {},
   "outputs": [],
   "source": [
    "y_satisfaction = data['JobSat']"
   ]
  },
  {
   "cell_type": "code",
   "execution_count": 312,
   "id": "3becbf5a-2b53-4b9d-9785-e98d78527dc8",
   "metadata": {},
   "outputs": [
    {
     "data": {
      "text/plain": [
       "72       10.0\n",
       "379      10.0\n",
       "389      10.0\n",
       "392       7.0\n",
       "415       3.0\n",
       "         ... \n",
       "41173     9.0\n",
       "41174     6.0\n",
       "41175     6.0\n",
       "41178     0.0\n",
       "41186     3.0\n",
       "Name: JobSat, Length: 14987, dtype: float64"
      ]
     },
     "execution_count": 312,
     "metadata": {},
     "output_type": "execute_result"
    }
   ],
   "source": [
    "y_satisfaction"
   ]
  },
  {
   "cell_type": "markdown",
   "id": "5374eb37-717e-45f1-9d19-2da607b43045",
   "metadata": {},
   "source": [
    "**Note**\n",
    "\n",
    "Job satisfaction ratings taken from surveys tend to be within the range of average and above average since it is rare for employees to be extremely dissatisfied.\n",
    "Thus to pevent imbalances and skewed learning, JobSat is being categorised into three categories: Dissatisfied, Neutral, Satisfied\n",
    "\n",
    "Then it is being encoded so that it will be compatible with the machine learning models"
   ]
  },
  {
   "cell_type": "code",
   "execution_count": 313,
   "id": "5031e9eb-c9ba-4be1-817a-86e20f774b6f",
   "metadata": {
    "scrolled": true
   },
   "outputs": [
    {
     "data": {
      "image/png": "[encoded data removed]",
      "text/plain": [
       "<Figure size 600x400 with 1 Axes>"
      ]
     },
     "metadata": {},
     "output_type": "display_data"
    }
   ],
   "source": [
    "import seaborn as sns\n",
    "import matplotlib.pyplot as plt\n",
    "\n",
    "plt.figure(figsize=(6,4))\n",
    "sns.countplot(x='JobSat', data=data, order=data['JobSat'].value_counts().index, hue='JobSat', legend=False)\n",
    "plt.title('Job Satisfaction Class Distribution')\n",
    "plt.xlabel('Job Satisfaction Level')\n",
    "plt.ylabel('Count')\n",
    "plt.show()"
   ]
  },
  {
   "cell_type": "code",
   "execution_count": 314,
   "id": "e8e3314c-e0ed-4d94-9e5c-084d9c8a5775",
   "metadata": {},
   "outputs": [],
   "source": [
    "#JobSat is broken down into ranges\n",
    "\n",
    "def simplify_satisfaction(score):\n",
    "    if score <= 4:\n",
    "        return 'Dissatisfied'\n",
    "    elif score == 5:\n",
    "        return 'Neutral'\n",
    "    else:\n",
    "        return 'Satisfied'\n",
    "\n",
    "data['JobSatSimplified'] = data['JobSat'].apply(simplify_satisfaction)"
   ]
  },
  {
   "cell_type": "code",
   "execution_count": 315,
   "id": "7d7ef1a9-112c-4a5d-a6f4-773253e974b8",
   "metadata": {},
   "outputs": [],
   "source": [
    "#However we need numerical data so encoding JobSatSimplified\n",
    "\n",
    "from sklearn.preprocessing import LabelEncoder\n",
    "\n",
    "le = LabelEncoder()\n",
    "data['JobSatEncoded'] = le.fit_transform(data['JobSatSimplified'])"
   ]
  },
  {
   "cell_type": "code",
   "execution_count": 316,
   "id": "552dcd39-5c97-4fc4-a3fb-c059f4928463",
   "metadata": {},
   "outputs": [],
   "source": [
    "import pickle\n",
    "\n",
    "with open('satisfaction_labels.pkl', 'wb') as f:\n",
    "    pickle.dump(le, f)"
   ]
  },
  {
   "cell_type": "code",
   "execution_count": 317,
   "id": "f0296d41-d530-4a08-8545-5940fea20ba6",
   "metadata": {},
   "outputs": [],
   "source": [
    "#finally we have\n",
    "\n",
    "y_satisfaction = data['JobSatEncoded']"
   ]
  },
  {
   "cell_type": "markdown",
   "id": "419ddd18-cd50-46fb-be4e-6f528f44419e",
   "metadata": {},
   "source": [
    "**Training and Testing Data**"
   ]
  },
  {
   "cell_type": "code",
   "execution_count": 318,
   "id": "7bb1e0bc-aa0c-4139-868d-b6678dc99bd7",
   "metadata": {},
   "outputs": [],
   "source": [
    "#Splitting into training and testing\n",
    "\n",
    "X_train, X_test, y_train, y_test = train_test_split(\n",
    "    X, y_satisfaction, test_size=0.2, random_state=42, stratify=y_satisfaction\n",
    ")"
   ]
  },
  {
   "cell_type": "markdown",
   "id": "b928e7f7-6806-47f6-998a-a165a972c6b9",
   "metadata": {},
   "source": [
    "**Classification Pipeline**"
   ]
  },
  {
   "cell_type": "code",
   "execution_count": 253,
   "id": "a7ef4858-094c-4060-9a51-f187e2ef1923",
   "metadata": {},
   "outputs": [],
   "source": [
    "#Importing all the necessary libraries for Classification Models and Pipeline\n",
    "from sklearn.compose import ColumnTransformer\n",
    "from sklearn.preprocessing import OneHotEncoder, StandardScaler\n",
    "from sklearn.metrics import accuracy_score\n",
    "from sklearn.ensemble import RandomForestClassifier\n",
    "from sklearn.linear_model import LogisticRegression\n",
    "from sklearn.ensemble import GradientBoostingClassifier\n",
    "from sklearn.naive_bayes import MultinomialNB\n",
    "from xgboost import XGBClassifier\n",
    "from catboost import CatBoostClassifier"
   ]
  },
  {
   "cell_type": "code",
   "execution_count": 257,
   "id": "8b8dcf12-790b-40fb-b8c4-35c68df20e53",
   "metadata": {},
   "outputs": [
    {
     "name": "stderr",
     "output_type": "stream",
     "text": [
      "C:\\Users\\HP\\AppData\\Local\\Programs\\Python\\Python310\\lib\\site-packages\\xgboost\\training.py:183: UserWarning: [01:56:35] WARNING: C:\\actions-runner\\_work\\xgboost\\xgboost\\src\\learner.cc:738: \n",
      "Parameters: { \"use_label_encoder\" } are not used.\n",
      "\n",
      "  bst.update(dtrain, iteration=i, fobj=obj)\n"
     ]
    },
    {
     "name": "stdout",
     "output_type": "stream",
     "text": [
      "                 Model  Accuracy\n",
      "0  Logistic Regression  0.804536\n",
      "2    Gradient Boosting  0.803869\n",
      "4             CatBoost  0.800200\n",
      "3              XGBoost  0.794863\n",
      "1        Random Forest  0.756838\n"
     ]
    }
   ],
   "source": [
    "categorical_cols = X.select_dtypes(include=['object', 'category']).columns\n",
    "numeric_cols = X.select_dtypes(include=['int64', 'float64', 'bool']).columns\n",
    "\n",
    "preprocessor = ColumnTransformer(transformers=[\n",
    "    ('cat', OneHotEncoder(handle_unknown='ignore'), categorical_cols),\n",
    "    ('num', StandardScaler(), numeric_cols)\n",
    "])\n",
    "\n",
    "models = {\n",
    "    \"Logistic Regression\": LogisticRegression(max_iter=1000),\n",
    "    \"Random Forest\": RandomForestClassifier(),\n",
    "    \"Gradient Boosting\": GradientBoostingClassifier(),\n",
    "    \"XGBoost\": XGBClassifier(use_label_encoder=False, eval_metric='mlogloss'),\n",
    "    \"CatBoost\": CatBoostClassifier(verbose=0)\n",
    "}\n",
    "\n",
    "results = []\n",
    "\n",
    "for name, model in models.items():\n",
    "    clf = Pipeline(steps=[\n",
    "        ('preprocessor', preprocessor),\n",
    "        ('classifier', model)\n",
    "    ])\n",
    "    \n",
    "    clf.fit(X_train, y_train)\n",
    "    y_pred = clf.predict(X_test)\n",
    "    acc = accuracy_score(y_test, y_pred)\n",
    "    \n",
    "    results.append((name, acc))\n",
    "\n",
    "#Adding evaluation results to Dataframe from comparison\n",
    "results_df = pd.DataFrame(results, columns=['Model', 'Accuracy'])\n",
    "results_df = results_df.sort_values(by='Accuracy', ascending=False)\n",
    "print(results_df)"
   ]
  },
  {
   "cell_type": "markdown",
   "id": "6c31344e-aa5f-4d61-8b05-1b6c5439bb32",
   "metadata": {},
   "source": [
    "**Saving Logistic Regression Model**"
   ]
  },
  {
   "cell_type": "code",
   "execution_count": 258,
   "id": "2d5aa1d1-9953-4616-a02a-6e31f178f2e7",
   "metadata": {},
   "outputs": [
    {
     "data": {
      "text/plain": [
       "['satisfaction_model.pkl']"
      ]
     },
     "execution_count": 258,
     "metadata": {},
     "output_type": "execute_result"
    }
   ],
   "source": [
    "#Logistic Regression has the highest accuracy thus we will save this model\n",
    "\n",
    "from sklearn.linear_model import LogisticRegression\n",
    "import joblib\n",
    "\n",
    "model = LogisticRegression(max_iter=1000)\n",
    "model.fit(X_train, y_train)\n",
    "\n",
    "joblib.dump(model, 'satisfaction_model.pkl')\n"
   ]
  },
  {
   "cell_type": "code",
   "execution_count": null,
   "id": "6e3809b6-845c-48b0-9bb2-576e5445ded5",
   "metadata": {},
   "outputs": [],
   "source": []
  }
 ],
 "metadata": {
  "kernelspec": {
   "display_name": "Python 3.10 (Main)",
   "language": "python",
   "name": "py310"
  },
  "language_info": {
   "codemirror_mode": {
    "name": "ipython",
    "version": 3
   },
   "file_extension": ".py",
   "mimetype": "text/x-python",
   "name": "python",
   "nbconvert_exporter": "python",
   "pygments_lexer": "ipython3",
   "version": "3.10.11"
  }
 },
 "nbformat": 4,
 "nbformat_minor": 5
}
